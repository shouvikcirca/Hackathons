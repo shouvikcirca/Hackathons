{
 "cells": [
  {
   "cell_type": "code",
   "execution_count": null,
   "metadata": {
    "_cell_guid": "b1076dfc-b9ad-4769-8c92-a6c4dae69d19",
    "_uuid": "8f2839f25d086af736a60e9eeb907d3b93b6e0e5"
   },
   "outputs": [],
   "source": [
    "import numpy as np # linear algebra\n",
    "import pandas as pd # data processing, CSV file I/O (e.g. pd.read_csv)\n",
    "# import os\n",
    "# for dirname, _, filenames in os.walk('/kaggle/input'):\n",
    "#     for filename in filenames:\n",
    "#         print(os.path.join(dirname, filename))\n"
   ]
  },
  {
   "cell_type": "code",
   "execution_count": null,
   "metadata": {},
   "outputs": [],
   "source": [
    "from sklearn.model_selection import cross_val_score, cross_val_predict\n",
    "from sklearn.metrics import mean_squared_error"
   ]
  },
  {
   "cell_type": "code",
   "execution_count": null,
   "metadata": {},
   "outputs": [],
   "source": [
    "df_train = pd.read_csv('train.csv')\n",
    "df_train_labels = df_train[['value']]\n",
    "df_train = df_train.drop(['value'],axis=1)\n",
    "df_test = pd.read_csv('test.csv')\n"
   ]
  },
  {
   "cell_type": "code",
   "execution_count": null,
   "metadata": {},
   "outputs": [],
   "source": [
    "df_train.shape, df_test.shape"
   ]
  },
  {
   "cell_type": "code",
   "execution_count": null,
   "metadata": {},
   "outputs": [],
   "source": [
    "df_concatenated = pd.concat([df_train, df_test], ignore_index=True)"
   ]
  },
  {
   "cell_type": "code",
   "execution_count": null,
   "metadata": {},
   "outputs": [],
   "source": [
    "df_concatenated.shape"
   ]
  },
  {
   "cell_type": "code",
   "execution_count": null,
   "metadata": {},
   "outputs": [],
   "source": [
    "df_concatenated['year']=df_concatenated['date'].str[0:4]\n",
    "df_concatenated['month']=df_concatenated['date'].str[5:7]\n",
    "df_concatenated['day']=df_concatenated['date'].str[8:]"
   ]
  },
  {
   "cell_type": "code",
   "execution_count": null,
   "metadata": {},
   "outputs": [],
   "source": [
    "df_concatenated = df_concatenated.drop(['date'],axis=1)"
   ]
  },
  {
   "cell_type": "code",
   "execution_count": null,
   "metadata": {},
   "outputs": [],
   "source": [
    "df_concatenated.shape"
   ]
  },
  {
   "cell_type": "code",
   "execution_count": null,
   "metadata": {},
   "outputs": [],
   "source": [
    "df_concatenated.head(2)"
   ]
  },
  {
   "cell_type": "code",
   "execution_count": null,
   "metadata": {},
   "outputs": [],
   "source": [
    "X = df_concatenated\n",
    "y = df_train_labels"
   ]
  },
  {
   "cell_type": "code",
   "execution_count": null,
   "metadata": {},
   "outputs": [],
   "source": [
    "X.head(2)"
   ]
  },
  {
   "cell_type": "code",
   "execution_count": null,
   "metadata": {},
   "outputs": [],
   "source": [
    "y.head(2)"
   ]
  },
  {
   "cell_type": "code",
   "execution_count": null,
   "metadata": {},
   "outputs": [],
   "source": [
    "X['day']=X['day'].astype('category')\n",
    "X['month']=X['month'].astype('category')\n",
    "X['year']=X['year'].astype('category')"
   ]
  },
  {
   "cell_type": "code",
   "execution_count": null,
   "metadata": {},
   "outputs": [],
   "source": [
    "X_onehotencoded = pd.get_dummies(X,['day','month','year'])"
   ]
  },
  {
   "cell_type": "code",
   "execution_count": null,
   "metadata": {},
   "outputs": [],
   "source": [
    "X_train = X_onehotencoded.loc[:10273]"
   ]
  },
  {
   "cell_type": "code",
   "execution_count": null,
   "metadata": {},
   "outputs": [],
   "source": [
    "X_test = X_onehotencoded.loc[10274:]"
   ]
  },
  {
   "cell_type": "code",
   "execution_count": null,
   "metadata": {},
   "outputs": [],
   "source": [
    "y_train = y"
   ]
  },
  {
   "cell_type": "code",
   "execution_count": null,
   "metadata": {},
   "outputs": [],
   "source": [
    "X_train.shape, X_test.shape, y.shape"
   ]
  },
  {
   "cell_type": "markdown",
   "metadata": {},
   "source": [
    "Random Forest Regressor"
   ]
  },
  {
   "cell_type": "code",
   "execution_count": null,
   "metadata": {},
   "outputs": [],
   "source": [
    "import warnings\n",
    "warnings.simplefilter('ignore')"
   ]
  },
  {
   "cell_type": "code",
   "execution_count": null,
   "metadata": {},
   "outputs": [],
   "source": [
    "from sklearn.ensemble import RandomForestRegressor\n",
    "rfregr = RandomForestRegressor(max_depth=60, random_state=0, n_estimators=20)\n",
    "rfregr.fit(X_train, y_train)\n",
    "scores = cross_val_score(rfregr, X_train, y_train, cv=11, scoring='neg_mean_squared_error')\n",
    "(scores.mean()*-1)**0.5"
   ]
  },
  {
   "cell_type": "markdown",
   "metadata": {},
   "source": [
    "Ridge Regression"
   ]
  },
  {
   "cell_type": "code",
   "execution_count": null,
   "metadata": {},
   "outputs": [],
   "source": [
    "from sklearn.linear_model import Ridge\n",
    "ridgeregressor = Ridge(alpha=0.1)\n",
    "ridgeregressor.fit(X_train,y_train)\n",
    "scores = cross_val_score(ridgeregressor, X_train, y_train, cv=11, scoring='neg_mean_squared_error')\n",
    "(scores.mean()*-1)**0.5"
   ]
  },
  {
   "cell_type": "code",
   "execution_count": null,
   "metadata": {},
   "outputs": [],
   "source": [
    "y_pred = ridgeregressor.predict(X_test)"
   ]
  },
  {
   "cell_type": "code",
   "execution_count": null,
   "metadata": {},
   "outputs": [],
   "source": [
    "X_test_np = df_test.to_numpy()\n",
    "f = open('shouviksubmision.csv','a')\n",
    "f.write('date,value\\n')\n",
    "writevalue=''\n",
    "for i in range(y_pred.shape[0]):\n",
    "    writevalue = str(X_test_np[i][0])+','+str(y_pred[i][0])+'\\n'\n",
    "    f.write(writevalue)\n",
    "    \n",
    "f.close()    \n",
    "    "
   ]
  },
  {
   "cell_type": "markdown",
   "metadata": {},
   "source": [
    "Decision Tree Regression"
   ]
  },
  {
   "cell_type": "code",
   "execution_count": null,
   "metadata": {},
   "outputs": [],
   "source": [
    "from sklearn.tree import DecisionTreeRegressor\n",
    "dtregressor = DecisionTreeRegressor(random_state=0,presort=True)\n",
    "dtregressor.fit(X_train, y_train)\n",
    "scores = cross_val_score(dtregressor, X_train, y_train, cv=11, scoring='neg_mean_squared_error')\n",
    "(scores.mean()*-1)**0.5"
   ]
  },
  {
   "cell_type": "markdown",
   "metadata": {},
   "source": [
    "XgBoost"
   ]
  },
  {
   "cell_type": "code",
   "execution_count": null,
   "metadata": {},
   "outputs": [],
   "source": [
    "import xgboost as xgb\n",
    "xg_reg = xgb.XGBRegressor(objective ='reg:squarederror', colsample_bytree = 0.4, learning_rate = 0.5,max_depth = 20, alpha = 7, n_estimators = 10)\n",
    "xg_reg.fit(X_train, y_train)\n",
    "scores = cross_val_score(xg_reg, X_train, y_train, cv=11, scoring='neg_mean_squared_error')\n",
    "(scores.mean()*-1)**0.5"
   ]
  },
  {
   "cell_type": "code",
   "execution_count": null,
   "metadata": {},
   "outputs": [],
   "source": [
    "y_pred_xgboost = xg_reg.predict(X_test)"
   ]
  },
  {
   "cell_type": "code",
   "execution_count": null,
   "metadata": {},
   "outputs": [],
   "source": [
    "type(y_pred_xgboost)"
   ]
  },
  {
   "cell_type": "code",
   "execution_count": null,
   "metadata": {},
   "outputs": [],
   "source": [
    "X_test_np = df_test.to_numpy()\n",
    "f = open('shouviksubmision_2_xgboost.csv','a')\n",
    "f.write('date,value\\n')\n",
    "writevalue=''\n",
    "for i in range(y_pred_xgboost.shape[0]):\n",
    "    writevalue = str(X_test_np[i][0])+','+str(y_pred_xgboost[i])+'\\n'\n",
    "    f.write(writevalue)\n",
    "    \n",
    "f.close()    \n",
    "    "
   ]
  },
  {
   "cell_type": "markdown",
   "metadata": {},
   "source": [
    "Gradient Boosting"
   ]
  },
  {
   "cell_type": "code",
   "execution_count": null,
   "metadata": {},
   "outputs": [],
   "source": [
    "from sklearn import ensemble\n",
    "\n",
    "params = {'n_estimators': 540, 'max_depth': 10,'subsample':0.8, 'min_samples_split': 5,'learning_rate': 0.05, 'loss': 'ls'}\n",
    "gradb = ensemble.GradientBoostingRegressor(**params)\n",
    "\n",
    "gradb.fit(X_train, y_train)\n",
    "\n",
    "scores = cross_val_score(gradb, X_train, y_train, cv=11, scoring='neg_mean_squared_error')\n",
    "(scores.mean()*-1)**0.5"
   ]
  },
  {
   "cell_type": "code",
   "execution_count": null,
   "metadata": {},
   "outputs": [],
   "source": [
    "y_pred_gradientboost = gradb.predict(X_test)\n",
    "\n",
    "X_test_np = df_test.to_numpy()\n",
    "f = open('shouviksubmision_2_gradientboost.csv','a')\n",
    "f.write('date,value\\n')\n",
    "writevalue=''\n",
    "for i in range(y_pred_gradientboost.shape[0]):\n",
    "    writevalue = str(X_test_np[i][0])+','+str(y_pred_gradientboost[i])+'\\n'\n",
    "    f.write(writevalue)\n",
    "    \n",
    "f.close()    \n",
    "    "
   ]
  },
  {
   "cell_type": "code",
   "execution_count": null,
   "metadata": {},
   "outputs": [],
   "source": [
    "10274/22"
   ]
  },
  {
   "cell_type": "markdown",
   "metadata": {},
   "source": [
    "Lasso Regression"
   ]
  },
  {
   "cell_type": "code",
   "execution_count": null,
   "metadata": {},
   "outputs": [],
   "source": [
    "from sklearn import linear_model\n",
    "lassoregressor = linear_model.Lasso(alpha=0.4)\n",
    "lassoregressor.fit(X_train, y_train)"
   ]
  },
  {
   "cell_type": "code",
   "execution_count": null,
   "metadata": {},
   "outputs": [],
   "source": [
    "scores = cross_val_score(lassoregressor, X_train, y_train, cv=11, scoring='neg_mean_squared_error')\n",
    "(scores.mean()*-1)**0.5"
   ]
  },
  {
   "cell_type": "markdown",
   "metadata": {},
   "source": [
    "Linear Regression"
   ]
  },
  {
   "cell_type": "code",
   "execution_count": null,
   "metadata": {},
   "outputs": [],
   "source": [
    "from sklearn.linear_model import LinearRegression\n",
    "linreg = LinearRegression(normalize=False).fit(X_train, y_train)"
   ]
  },
  {
   "cell_type": "code",
   "execution_count": null,
   "metadata": {},
   "outputs": [],
   "source": [
    "scores = cross_val_score(linreg, X_train, y_train, cv=11, scoring='neg_mean_squared_error')\n",
    "(scores.mean()*-1)**0.5"
   ]
  },
  {
   "cell_type": "markdown",
   "metadata": {},
   "source": [
    "CatBoost Regressor"
   ]
  },
  {
   "cell_type": "code",
   "execution_count": null,
   "metadata": {},
   "outputs": [],
   "source": [
    "from catboost import CatBoostRegressor"
   ]
  },
  {
   "cell_type": "code",
   "execution_count": null,
   "metadata": {},
   "outputs": [],
   "source": [
    "cboostregressor = CatBoostRegressor()\n",
    "cboostregressor.fit(X_train, y_train)\n",
    "\n",
    "grid = {'learning_rate': [0.03, 0.1],'depth': [4, 6, 10],'l2_leaf_reg': [1, 3, 5, 7, 9]}\n",
    "\n",
    "\n",
    "grid_search_result = cboostregressor.grid_search(grid, X=X_train,y=y_train,plot=True)\n",
    "# scores = cross_val_score(cboostregressor, X_train, y_train, cv=11, scoring='neg_mean_squared_error')\n",
    "# (scores.mean()*-1)**0.5\n"
   ]
  },
  {
   "cell_type": "code",
   "execution_count": null,
   "metadata": {},
   "outputs": [],
   "source": [
    "grid_search_result"
   ]
  },
  {
   "cell_type": "code",
   "execution_count": null,
   "metadata": {},
   "outputs": [],
   "source": [
    "cboostregressor = CatBoostRegressor(depth=10, learning_rate=0.1, l2_leaf_reg=3)\n",
    "cboostregressor.fit(X_train, y_train)"
   ]
  },
  {
   "cell_type": "code",
   "execution_count": null,
   "metadata": {},
   "outputs": [],
   "source": [
    "scores = cross_val_score(cboostregressor, X_train, y_train, cv=11, scoring='neg_mean_squared_error')\n",
    "(scores.mean()*-1)**0.5"
   ]
  },
  {
   "cell_type": "markdown",
   "metadata": {},
   "source": [
    "Support Vector Regressor"
   ]
  },
  {
   "cell_type": "code",
   "execution_count": null,
   "metadata": {},
   "outputs": [],
   "source": [
    "from sklearn.svm import SVR\n",
    "from sklearn.model_selection import GridSearchCV \n",
    "# svrregressor = SVR(gamma='scale', C=1.0, epsilon=0.2)\n",
    "# svrregressor.fit(X_train, y_train)\n",
    "\n",
    "\n",
    "\n",
    "param_grid = {'kernel': ['sigmoid'],'C': [0.8,0.9,1.0,1.1,1.2],'epsilon': [0.1,0.2,0.3,0.4,0.5,0.6,0.7,0.8,0.9,1.0]}\n",
    "\n",
    "grid = GridSearchCV(SVR(), param_grid, refit = True, verbose = 0)\n",
    "grid.fit(X_train, y_train) \n",
    "\n",
    "\n",
    "# print(grid.best_params_) \n",
    "# print(grid.best_estimator_) \n",
    "\n",
    "# scores = cross_val_score(svrregressor, X_train, y_train, cv=11, scoring='neg_mean_squared_error')\n",
    "# (scores.mean()*-1)**0.5"
   ]
  },
  {
   "cell_type": "code",
   "execution_count": null,
   "metadata": {},
   "outputs": [],
   "source": [
    "print(grid.best_params_) "
   ]
  },
  {
   "cell_type": "markdown",
   "metadata": {},
   "source": [
    "rbf kernel"
   ]
  },
  {
   "cell_type": "code",
   "execution_count": null,
   "metadata": {},
   "outputs": [],
   "source": [
    "svrregressor = SVR(kernel='rbf',gamma='scale', C=0.8, epsilon=0.1)\n",
    "svrregressor.fit(X_train, y_train)\n"
   ]
  },
  {
   "cell_type": "markdown",
   "metadata": {},
   "source": [
    "sigmoid kernel"
   ]
  },
  {
   "cell_type": "code",
   "execution_count": null,
   "metadata": {},
   "outputs": [],
   "source": [
    "svrregressor = SVR(kernel='sigmoid',gamma='scale', C=1.2, epsilon=0.8)\n",
    "svrregressor.fit(X_train, y_train)\n"
   ]
  },
  {
   "cell_type": "markdown",
   "metadata": {},
   "source": [
    "linear kernel"
   ]
  },
  {
   "cell_type": "code",
   "execution_count": null,
   "metadata": {},
   "outputs": [],
   "source": [
    "param_grid = {'kernel': ['linear'],'C': [0.8,0.9,1.0,1.1,1.2],'epsilon': [0.1,0.2,0.3,0.4,0.5,0.6,0.7,0.8,0.9,1.0]}\n",
    "\n",
    "grid = GridSearchCV(SVR(), param_grid, refit = True, verbose = 0)\n",
    "grid.fit(X_train, y_train) "
   ]
  },
  {
   "cell_type": "code",
   "execution_count": null,
   "metadata": {},
   "outputs": [],
   "source": [
    "grid.best_params_"
   ]
  },
  {
   "cell_type": "code",
   "execution_count": null,
   "metadata": {},
   "outputs": [],
   "source": [
    "svrregressor = SVR(kernel='linear',gamma='scale', C=1.2, epsilon=0.1) #linear kernel"
   ]
  },
  {
   "cell_type": "code",
   "execution_count": null,
   "metadata": {},
   "outputs": [],
   "source": [
    "svrregressor = SVR(kernel='rbf',gamma='scale', C=1.2, epsilon=0.1) #rbf kernel"
   ]
  },
  {
   "cell_type": "code",
   "execution_count": null,
   "metadata": {},
   "outputs": [],
   "source": [
    "scores = cross_val_score(svrregressor, X_train, y_train, cv=11, scoring='neg_mean_squared_error')\n",
    "(scores.mean()*-1)**0.5"
   ]
  },
  {
   "cell_type": "code",
   "execution_count": null,
   "metadata": {},
   "outputs": [],
   "source": [
    "import matplotlib.pyplot as plt\n",
    "%matplotlib inline\n",
    "plt.hist(df_train['date'])\n",
    "plt.show()"
   ]
  },
  {
   "cell_type": "markdown",
   "metadata": {},
   "source": [
    "AdaBoost"
   ]
  },
  {
   "cell_type": "code",
   "execution_count": null,
   "metadata": {},
   "outputs": [],
   "source": [
    "from sklearn.ensemble import AdaBoostRegressor\n",
    "adbregressor = AdaBoostRegressor(random_state=0, n_estimators=300)\n",
    "adbregressor.fit(X_train, y_train)\n",
    "scores = cross_val_score(adbregressor, X_train, y_train, cv=11, scoring='neg_mean_squared_error')\n",
    "(scores.mean()*-1)**0.5"
   ]
  },
  {
   "cell_type": "markdown",
   "metadata": {},
   "source": [
    "Stochastic Gradient Boosting"
   ]
  },
  {
   "cell_type": "code",
   "execution_count": null,
   "metadata": {},
   "outputs": [],
   "source": [
    "from sklearn.ensemble import GradientBoostingRegressor\n",
    "params = {'n_estimators': 540, 'subsample': 0.8, 'max_depth': 1, 'min_samples_split': 5,'learning_rate': 0.05, 'loss': 'ls'}\n",
    "sgradb = ensemble.GradientBoostingRegressor(**params)\n",
    "sgradb.fit(X_train, y_train)\n",
    "scores = cross_val_score(sgradb, X_train, y_train, cv=11, scoring='neg_mean_squared_error')\n",
    "(scores.mean()*-1)**0.5"
   ]
  },
  {
   "cell_type": "markdown",
   "metadata": {},
   "source": [
    "CatBoost without onehot encoding"
   ]
  },
  {
   "cell_type": "code",
   "execution_count": null,
   "metadata": {},
   "outputs": [],
   "source": [
    "from catboost import CatBoostRegressor\n",
    "X_train_withoutonehotencoding = X.loc[:10273]\n",
    "X_test_withoutonehotencoding = X.loc[10274:]\n",
    "\n"
   ]
  },
  {
   "cell_type": "code",
   "execution_count": null,
   "metadata": {},
   "outputs": [],
   "source": [
    "X_train_withoutonehotencoding['year']= X_train_withoutonehotencoding['year'].astype(str)\n",
    "X_train_withoutonehotencoding['day']= X_train_withoutonehotencoding['day'].astype(str)\n",
    "X_train_withoutonehotencoding['month']= X_train_withoutonehotencoding['month'].astype(str)\n",
    "\n",
    "\n"
   ]
  },
  {
   "cell_type": "code",
   "execution_count": null,
   "metadata": {},
   "outputs": [],
   "source": [
    "X_train_withoutonehotencoding.shape, X_test_withoutonehotencoding.shape"
   ]
  },
  {
   "cell_type": "code",
   "execution_count": null,
   "metadata": {},
   "outputs": [],
   "source": [
    "cboostregressor = CatBoostRegressor()\n",
    "cboostregressor.fit(X_train_withoutonehotencoding, y_train)\n",
    "\n",
    "grid = {'learning_rate': [0.4,0.5,0.6,0.7],'depth': [4, 6, 10],'l2_leaf_reg': [1, 3, 5, 7, 9]}\n",
    "\n",
    "\n",
    "grid_search_result = cboostregressor.grid_search(grid, X=X_train_withoutonehotencoding,y=y_train,plot=False)\n",
    "# scores = cross_val_score(cboostregressor, X_train, y_train, cv=11, scoring='neg_mean_squared_error')\n",
    "# (scores.mean()*-1)**0.5\n",
    "\n",
    "\n",
    "\n"
   ]
  },
  {
   "cell_type": "code",
   "execution_count": null,
   "metadata": {},
   "outputs": [],
   "source": [
    "grid_search_result"
   ]
  },
  {
   "cell_type": "code",
   "execution_count": null,
   "metadata": {},
   "outputs": [],
   "source": [
    "cboostregressor = CatBoostRegressor(depth=10, l2_leaf_reg=5, learning_rate=0.5)\n",
    "cboostregressor.fit(X_train_withoutonehotencoding, y_train)\n",
    "\n",
    "scores = cross_val_score(cboostregressor, X_train_withoutonehotencoding, y_train, cv=11, scoring='neg_mean_squared_error')\n",
    "(scores.mean()*-1)**0.5"
   ]
  },
  {
   "cell_type": "code",
   "execution_count": null,
   "metadata": {},
   "outputs": [],
   "source": [
    "depth 10 6.1384"
   ]
  },
  {
   "cell_type": "code",
   "execution_count": null,
   "metadata": {},
   "outputs": [],
   "source": [
    "X_test_withoutonehotencoding['year']= X_test_withoutonehotencoding['year'].astype(str)\n",
    "X_test_withoutonehotencoding['day']= X_test_withoutonehotencoding['day'].astype(str)\n",
    "X_test_withoutonehotencoding['month']= X_test_withoutonehotencoding['month'].astype(str)\n",
    "\n",
    "\n",
    "y_pred_catboost = cboostregressor.predict(X_test_withoutonehotencoding)\n",
    "y_pred_catboost.shape\n"
   ]
  },
  {
   "cell_type": "code",
   "execution_count": null,
   "metadata": {},
   "outputs": [],
   "source": [
    "X_test_np = df_test.to_numpy()\n",
    "f = open('shouviksubmision_2_catboost3.csv','a')\n",
    "f.write('date,value\\n')\n",
    "writevalue=''\n",
    "for i in range(y_pred_catboost.shape[0]):\n",
    "    writevalue = str(X_test_np[i][0])+','+str(y_pred_catboost[i])+'\\n'\n",
    "    f.write(writevalue)\n",
    "    \n",
    "f.close()    \n",
    "    "
   ]
  },
  {
   "cell_type": "markdown",
   "metadata": {},
   "source": [
    "Deep Learning"
   ]
  },
  {
   "cell_type": "code",
   "execution_count": null,
   "metadata": {},
   "outputs": [],
   "source": [
    "X_train.shape"
   ]
  },
  {
   "cell_type": "code",
   "execution_count": null,
   "metadata": {},
   "outputs": [],
   "source": [
    "from keras.models import Sequential\n",
    "from keras.layers import Dense\n",
    "dlmodel=Sequential()\n",
    "dlmodel.add(Dense(46, input_shape=(92,), activation='relu'))\n",
    "# dlmodel.add(Dense(23, input_dim=46, activation='relu'))\n",
    "dlmodel.add(Dense(1))"
   ]
  },
  {
   "cell_type": "code",
   "execution_count": null,
   "metadata": {},
   "outputs": [],
   "source": [
    "dlmodel.compile(optimizer='adam', loss='mse')\n",
    "dlmodel.fit(X_train,y_train, epochs=45)"
   ]
  },
  {
   "cell_type": "code",
   "execution_count": null,
   "metadata": {},
   "outputs": [],
   "source": [
    "dlmodel.summary()"
   ]
  },
  {
   "cell_type": "code",
   "execution_count": null,
   "metadata": {},
   "outputs": [],
   "source": [
    "y_pred_dl = dlmodel.predict(X_test)"
   ]
  },
  {
   "cell_type": "code",
   "execution_count": null,
   "metadata": {},
   "outputs": [],
   "source": [
    "X_test_np = df_test.to_numpy()\n",
    "f = open('shouviksubmision_2_dl.csv','a')\n",
    "f.write('date,value\\n')\n",
    "writevalue=''\n",
    "for i in range(y_pred_dl.shape[0]):\n",
    "    writevalue = str(X_test_np[i][0])+','+str(y_pred_dl[i][0])+'\\n'\n",
    "    f.write(writevalue)\n",
    "    \n",
    "f.close()    \n",
    "    "
   ]
  },
  {
   "cell_type": "markdown",
   "metadata": {},
   "source": [
    "Plotting the data"
   ]
  },
  {
   "cell_type": "code",
   "execution_count": null,
   "metadata": {},
   "outputs": [],
   "source": [
    "df_train_examine = pd.read_csv('train.csv')"
   ]
  },
  {
   "cell_type": "code",
   "execution_count": null,
   "metadata": {},
   "outputs": [],
   "source": [
    "df_train_examine"
   ]
  },
  {
   "cell_type": "code",
   "execution_count": null,
   "metadata": {},
   "outputs": [],
   "source": [
    "df_train_examine['date']=df_train_examine['date'].astype(str)"
   ]
  },
  {
   "cell_type": "code",
   "execution_count": null,
   "metadata": {},
   "outputs": [],
   "source": [
    "df_train_examine = df_train_examine.set_index('date')"
   ]
  },
  {
   "cell_type": "code",
   "execution_count": null,
   "metadata": {},
   "outputs": [],
   "source": [
    "import matplotlib.pyplot as plt\n",
    "%matplotlib inline\n",
    "plt.style.use('default')\n",
    "df_train_examine.plot()\n",
    "plt.show()"
   ]
  }
 ],
 "metadata": {
  "kernelspec": {
   "display_name": "Python 3",
   "language": "python",
   "name": "python3"
  },
  "language_info": {
   "codemirror_mode": {
    "name": "ipython",
    "version": 3
   },
   "file_extension": ".py",
   "mimetype": "text/x-python",
   "name": "python",
   "nbconvert_exporter": "python",
   "pygments_lexer": "ipython3",
   "version": "3.6.9"
  }
 },
 "nbformat": 4,
 "nbformat_minor": 1
}
