{
 "cells": [
  {
   "cell_type": "code",
   "execution_count": 2,
   "metadata": {},
   "outputs": [],
   "source": [
    "import pandas as pd\n",
    "import numpy as np\n",
    "from keras.callbacks import EarlyStopping\n",
    "from sklearn.preprocessing import OrdinalEncoder, OneHotEncoder\n",
    "import tensorflow as tf\n",
    "from sklearn.preprocessing import StandardScaler"
   ]
  },
  {
   "cell_type": "code",
   "execution_count": 3,
   "metadata": {},
   "outputs": [],
   "source": [
    "trainData = pd.read_csv('Glass_Quality_Participants_Data/Train.csv')"
   ]
  },
  {
   "cell_type": "code",
   "execution_count": null,
   "metadata": {},
   "outputs": [],
   "source": [
    "# Number of columns = 16  Train\n",
    "# Number of rows = 1358   Train\n",
    "\n",
    "# Number of columns = 15  Test\n",
    "# Number of rows = 583   Test"
   ]
  },
  {
   "cell_type": "code",
   "execution_count": null,
   "metadata": {},
   "outputs": [],
   "source": [
    "# Columns\n",
    "# Index(['grade_A_Component_1', 'grade_A_Component_2', 'max_luminosity',\n",
    "#        'thickness', 'xmin', 'xmax', 'ymin', 'ymax', 'pixel_area', 'log_area',\n",
    "#        'x_component_1', 'x_component_2', 'x_component_3', 'x_component_4',\n",
    "#        'x_component_5', 'class'],\n",
    "#       dtype='object')"
   ]
  },
  {
   "cell_type": "code",
   "execution_count": 4,
   "metadata": {},
   "outputs": [],
   "source": [
    "features = trainData.iloc[:,:-1]\n",
    "labels = trainData.iloc[:,-1]"
   ]
  },
  {
   "cell_type": "code",
   "execution_count": 5,
   "metadata": {},
   "outputs": [
    {
     "data": {
      "text/plain": [
       "(1358, 1)"
      ]
     },
     "execution_count": 5,
     "metadata": {},
     "output_type": "execute_result"
    }
   ],
   "source": [
    "labels = labels.values.reshape(-1,1)\n",
    "# labels = np.array([i[0]-1 for i in labels]).reshape(-1,1)\n",
    "labels.shape"
   ]
  },
  {
   "cell_type": "code",
   "execution_count": 6,
   "metadata": {},
   "outputs": [],
   "source": [
    "def ohencoder(labels):\n",
    "    return np.array([[0,1] if i[0] == 2 else [1,0] for i in labels])\n",
    "\n",
    "ohencoded_labels = ohencoder(labels)"
   ]
  },
  {
   "cell_type": "code",
   "execution_count": null,
   "metadata": {},
   "outputs": [],
   "source": [
    "ohencoded_labels.shape"
   ]
  },
  {
   "cell_type": "code",
   "execution_count": 7,
   "metadata": {},
   "outputs": [],
   "source": [
    "features = features.astype('float')"
   ]
  },
  {
   "cell_type": "code",
   "execution_count": null,
   "metadata": {},
   "outputs": [],
   "source": [
    "features.info()"
   ]
  },
  {
   "cell_type": "code",
   "execution_count": null,
   "metadata": {},
   "outputs": [],
   "source": [
    "# x and grade_A are categorical variables\n",
    "# No missing values"
   ]
  },
  {
   "cell_type": "code",
   "execution_count": null,
   "metadata": {},
   "outputs": [],
   "source": [
    "import matplotlib.pyplot as plt\n",
    "%matplotlib inline\n",
    "\n",
    "features.hist(column=[\"xmax\", \"xmin\",\"ymin\",\"ymax\",])"
   ]
  },
  {
   "cell_type": "code",
   "execution_count": null,
   "metadata": {},
   "outputs": [],
   "source": [
    "features.hist(column=[\"max_luminosity\",\"pixel_area\",\"log_area\"])#,,,"
   ]
  },
  {
   "cell_type": "code",
   "execution_count": null,
   "metadata": {},
   "outputs": [],
   "source": [
    "features.corr()"
   ]
  },
  {
   "cell_type": "code",
   "execution_count": null,
   "metadata": {},
   "outputs": [],
   "source": [
    "# pixel_area and log_area\n",
    "# xmin and xmax\n",
    "# ymin and ymax\n",
    "# The above pairs have a very high degree of positive correlation"
   ]
  },
  {
   "cell_type": "code",
   "execution_count": 8,
   "metadata": {},
   "outputs": [],
   "source": [
    "features = features.drop(columns=['pixel_area', 'xmax','ymax'])"
   ]
  },
  {
   "cell_type": "code",
   "execution_count": 9,
   "metadata": {},
   "outputs": [],
   "source": [
    "tfeatures = features.loc[:,['max_luminosity','thickness','xmin','ymin','log_area']]"
   ]
  },
  {
   "cell_type": "code",
   "execution_count": 10,
   "metadata": {},
   "outputs": [],
   "source": [
    "scaler = StandardScaler()\n",
    "scaler.fit(tfeatures)\n",
    "tfeatures = scaler.transform(tfeatures)"
   ]
  },
  {
   "cell_type": "code",
   "execution_count": 11,
   "metadata": {},
   "outputs": [],
   "source": [
    "tfeatures = pd.DataFrame(tfeatures,columns=['max_luminosity','thickness','xmin','ymin','log_area'])"
   ]
  },
  {
   "cell_type": "code",
   "execution_count": 12,
   "metadata": {},
   "outputs": [],
   "source": [
    "features = features.drop(columns=['max_luminosity','thickness','xmin','ymin','log_area'])"
   ]
  },
  {
   "cell_type": "code",
   "execution_count": 13,
   "metadata": {},
   "outputs": [],
   "source": [
    "normalized_features = pd.concat([features,tfeatures],axis=1)"
   ]
  },
  {
   "cell_type": "code",
   "execution_count": null,
   "metadata": {},
   "outputs": [],
   "source": [
    "normalized_features.shape"
   ]
  },
  {
   "cell_type": "code",
   "execution_count": null,
   "metadata": {},
   "outputs": [],
   "source": [
    "normalized_features.corr()"
   ]
  },
  {
   "cell_type": "code",
   "execution_count": 14,
   "metadata": {},
   "outputs": [],
   "source": [
    "np_features = normalized_features.to_numpy()\n",
    "np_labels = ohencoded_labels"
   ]
  },
  {
   "cell_type": "code",
   "execution_count": 15,
   "metadata": {},
   "outputs": [],
   "source": [
    "from sklearn.model_selection import train_test_split\n",
    "X_train, X_test, y_train, y_test = train_test_split(np_features, np_labels, test_size=0.33, random_state=42)"
   ]
  },
  {
   "cell_type": "code",
   "execution_count": null,
   "metadata": {},
   "outputs": [],
   "source": [
    "X_train.shape, X_test.shape"
   ]
  },
  {
   "cell_type": "code",
   "execution_count": 16,
   "metadata": {},
   "outputs": [],
   "source": [
    "from keras import models, layers, optimizers\n",
    "model = models.Sequential()\n",
    "model.add(layers.Dense(10, activation = 'relu', input_dim = 12))\n",
    "model.add(layers.Dropout(0.5))\n",
    "model.add(layers.Dense(5, activation = 'relu'))\n",
    "model.add(layers.Dense(8, activation = 'relu'))\n",
    "model.add(layers.Dense(2, activation = 'softmax'))\n",
    "\n",
    "\n",
    "model.compile(optimizer = optimizers.adam(lr = 1e-3),\n",
    "              loss = 'categorical_crossentropy',\n",
    "              metrics = [tf.keras.metrics.CategoricalAccuracy()]\n",
    "             )"
   ]
  },
  {
   "cell_type": "code",
   "execution_count": 17,
   "metadata": {},
   "outputs": [],
   "source": [
    "my_callbacks = [\n",
    "    EarlyStopping(patience=5),\n",
    "    \n",
    "    \n",
    "]"
   ]
  },
  {
   "cell_type": "code",
   "execution_count": 18,
   "metadata": {},
   "outputs": [
    {
     "name": "stdout",
     "output_type": "stream",
     "text": [
      "WARNING:tensorflow:From /home/shouvik/Desktop/DeepLearning/dl/lib/python3.6/site-packages/keras/backend/tensorflow_backend.py:422: The name tf.global_variables is deprecated. Please use tf.compat.v1.global_variables instead.\n",
      "\n",
      "Train on 909 samples, validate on 449 samples\n",
      "Epoch 1/100\n",
      "909/909 [==============================] - 0s 192us/step - loss: 0.6725 - categorical_accuracy: 0.6639 - val_loss: 0.6798 - val_categorical_accuracy: 0.6561\n",
      "Epoch 2/100\n",
      "909/909 [==============================] - 0s 56us/step - loss: 0.6590 - categorical_accuracy: 0.6555 - val_loss: 0.6615 - val_categorical_accuracy: 0.6545\n",
      "Epoch 3/100\n",
      "909/909 [==============================] - 0s 51us/step - loss: 0.6421 - categorical_accuracy: 0.6533 - val_loss: 0.6454 - val_categorical_accuracy: 0.6540\n",
      "Epoch 4/100\n",
      "909/909 [==============================] - 0s 50us/step - loss: 0.6276 - categorical_accuracy: 0.6539 - val_loss: 0.6259 - val_categorical_accuracy: 0.6538\n",
      "Epoch 5/100\n",
      "909/909 [==============================] - 0s 51us/step - loss: 0.6201 - categorical_accuracy: 0.6521 - val_loss: 0.6103 - val_categorical_accuracy: 0.6537\n",
      "Epoch 6/100\n",
      "909/909 [==============================] - 0s 48us/step - loss: 0.6019 - categorical_accuracy: 0.6529 - val_loss: 0.5950 - val_categorical_accuracy: 0.6536\n",
      "Epoch 7/100\n",
      "909/909 [==============================] - 0s 51us/step - loss: 0.5996 - categorical_accuracy: 0.6536 - val_loss: 0.5854 - val_categorical_accuracy: 0.6535\n",
      "Epoch 8/100\n",
      "909/909 [==============================] - 0s 46us/step - loss: 0.5963 - categorical_accuracy: 0.6533 - val_loss: 0.5760 - val_categorical_accuracy: 0.6535\n",
      "Epoch 9/100\n",
      "909/909 [==============================] - 0s 46us/step - loss: 0.5853 - categorical_accuracy: 0.6531 - val_loss: 0.5653 - val_categorical_accuracy: 0.6534\n",
      "Epoch 10/100\n",
      "909/909 [==============================] - 0s 51us/step - loss: 0.5722 - categorical_accuracy: 0.6528 - val_loss: 0.5522 - val_categorical_accuracy: 0.6534\n",
      "Epoch 11/100\n",
      "909/909 [==============================] - 0s 47us/step - loss: 0.5742 - categorical_accuracy: 0.6533 - val_loss: 0.5424 - val_categorical_accuracy: 0.6534\n",
      "Epoch 12/100\n",
      "909/909 [==============================] - 0s 51us/step - loss: 0.5525 - categorical_accuracy: 0.6531 - val_loss: 0.5309 - val_categorical_accuracy: 0.6546\n",
      "Epoch 13/100\n",
      "909/909 [==============================] - 0s 49us/step - loss: 0.5511 - categorical_accuracy: 0.6554 - val_loss: 0.5192 - val_categorical_accuracy: 0.6565\n",
      "Epoch 14/100\n",
      "909/909 [==============================] - 0s 49us/step - loss: 0.5438 - categorical_accuracy: 0.6573 - val_loss: 0.5112 - val_categorical_accuracy: 0.6591\n",
      "Epoch 15/100\n",
      "909/909 [==============================] - 0s 49us/step - loss: 0.5381 - categorical_accuracy: 0.6605 - val_loss: 0.5001 - val_categorical_accuracy: 0.6626\n",
      "Epoch 16/100\n",
      "909/909 [==============================] - 0s 48us/step - loss: 0.5391 - categorical_accuracy: 0.6633 - val_loss: 0.4933 - val_categorical_accuracy: 0.6648\n",
      "Epoch 17/100\n",
      "909/909 [==============================] - 0s 48us/step - loss: 0.5122 - categorical_accuracy: 0.6664 - val_loss: 0.4823 - val_categorical_accuracy: 0.6683\n",
      "Epoch 18/100\n",
      "909/909 [==============================] - 0s 49us/step - loss: 0.5206 - categorical_accuracy: 0.6695 - val_loss: 0.4737 - val_categorical_accuracy: 0.6716\n",
      "Epoch 19/100\n",
      "909/909 [==============================] - 0s 54us/step - loss: 0.5094 - categorical_accuracy: 0.6734 - val_loss: 0.4619 - val_categorical_accuracy: 0.6758\n",
      "Epoch 20/100\n",
      "909/909 [==============================] - 0s 48us/step - loss: 0.4919 - categorical_accuracy: 0.6778 - val_loss: 0.4514 - val_categorical_accuracy: 0.6804\n",
      "Epoch 21/100\n",
      "909/909 [==============================] - 0s 50us/step - loss: 0.4858 - categorical_accuracy: 0.6824 - val_loss: 0.4401 - val_categorical_accuracy: 0.6843\n",
      "Epoch 22/100\n",
      "909/909 [==============================] - 0s 49us/step - loss: 0.4717 - categorical_accuracy: 0.6863 - val_loss: 0.4313 - val_categorical_accuracy: 0.6885\n",
      "Epoch 23/100\n",
      "909/909 [==============================] - 0s 47us/step - loss: 0.4495 - categorical_accuracy: 0.6906 - val_loss: 0.4186 - val_categorical_accuracy: 0.6927\n",
      "Epoch 24/100\n",
      "909/909 [==============================] - 0s 48us/step - loss: 0.4509 - categorical_accuracy: 0.6944 - val_loss: 0.4077 - val_categorical_accuracy: 0.6967\n",
      "Epoch 25/100\n",
      "909/909 [==============================] - 0s 47us/step - loss: 0.4435 - categorical_accuracy: 0.6988 - val_loss: 0.3996 - val_categorical_accuracy: 0.7006\n",
      "Epoch 26/100\n",
      "909/909 [==============================] - 0s 48us/step - loss: 0.4527 - categorical_accuracy: 0.7021 - val_loss: 0.3948 - val_categorical_accuracy: 0.7036\n",
      "Epoch 27/100\n",
      "909/909 [==============================] - 0s 47us/step - loss: 0.4269 - categorical_accuracy: 0.7053 - val_loss: 0.3859 - val_categorical_accuracy: 0.7073\n",
      "Epoch 28/100\n",
      "909/909 [==============================] - 0s 49us/step - loss: 0.4370 - categorical_accuracy: 0.7086 - val_loss: 0.3802 - val_categorical_accuracy: 0.7102\n",
      "Epoch 29/100\n",
      "909/909 [==============================] - 0s 56us/step - loss: 0.4095 - categorical_accuracy: 0.7119 - val_loss: 0.3744 - val_categorical_accuracy: 0.7134\n",
      "Epoch 30/100\n",
      "909/909 [==============================] - 0s 48us/step - loss: 0.4339 - categorical_accuracy: 0.7147 - val_loss: 0.3706 - val_categorical_accuracy: 0.7162\n",
      "Epoch 31/100\n",
      "909/909 [==============================] - 0s 51us/step - loss: 0.4321 - categorical_accuracy: 0.7175 - val_loss: 0.3650 - val_categorical_accuracy: 0.7189\n",
      "Epoch 32/100\n",
      "909/909 [==============================] - 0s 49us/step - loss: 0.4337 - categorical_accuracy: 0.7200 - val_loss: 0.3587 - val_categorical_accuracy: 0.7215\n",
      "Epoch 33/100\n",
      "909/909 [==============================] - 0s 49us/step - loss: 0.4096 - categorical_accuracy: 0.7229 - val_loss: 0.3528 - val_categorical_accuracy: 0.7244\n",
      "Epoch 34/100\n",
      "909/909 [==============================] - 0s 48us/step - loss: 0.3962 - categorical_accuracy: 0.7258 - val_loss: 0.3490 - val_categorical_accuracy: 0.7271\n",
      "Epoch 35/100\n",
      "909/909 [==============================] - 0s 48us/step - loss: 0.4031 - categorical_accuracy: 0.7283 - val_loss: 0.3433 - val_categorical_accuracy: 0.7297\n",
      "Epoch 36/100\n",
      "909/909 [==============================] - 0s 56us/step - loss: 0.3816 - categorical_accuracy: 0.7307 - val_loss: 0.3413 - val_categorical_accuracy: 0.7320\n",
      "Epoch 37/100\n",
      "909/909 [==============================] - 0s 48us/step - loss: 0.4019 - categorical_accuracy: 0.7330 - val_loss: 0.3368 - val_categorical_accuracy: 0.7340\n",
      "Epoch 38/100\n",
      "909/909 [==============================] - 0s 50us/step - loss: 0.3945 - categorical_accuracy: 0.7350 - val_loss: 0.3345 - val_categorical_accuracy: 0.7362\n",
      "Epoch 39/100\n",
      "909/909 [==============================] - 0s 49us/step - loss: 0.4001 - categorical_accuracy: 0.7373 - val_loss: 0.3329 - val_categorical_accuracy: 0.7383\n",
      "Epoch 40/100\n",
      "909/909 [==============================] - 0s 53us/step - loss: 0.3746 - categorical_accuracy: 0.7394 - val_loss: 0.3292 - val_categorical_accuracy: 0.7404\n",
      "Epoch 41/100\n",
      "909/909 [==============================] - 0s 53us/step - loss: 0.3885 - categorical_accuracy: 0.7412 - val_loss: 0.3274 - val_categorical_accuracy: 0.7421\n",
      "Epoch 42/100\n",
      "909/909 [==============================] - 0s 55us/step - loss: 0.3795 - categorical_accuracy: 0.7430 - val_loss: 0.3266 - val_categorical_accuracy: 0.7439\n",
      "Epoch 43/100\n",
      "909/909 [==============================] - 0s 50us/step - loss: 0.3648 - categorical_accuracy: 0.7450 - val_loss: 0.3235 - val_categorical_accuracy: 0.7459\n",
      "Epoch 44/100\n",
      "909/909 [==============================] - 0s 48us/step - loss: 0.3835 - categorical_accuracy: 0.7468 - val_loss: 0.3214 - val_categorical_accuracy: 0.7475\n",
      "Epoch 45/100\n",
      "909/909 [==============================] - 0s 46us/step - loss: 0.3831 - categorical_accuracy: 0.7482 - val_loss: 0.3173 - val_categorical_accuracy: 0.7492\n",
      "Epoch 46/100\n",
      "909/909 [==============================] - 0s 47us/step - loss: 0.3851 - categorical_accuracy: 0.7499 - val_loss: 0.3146 - val_categorical_accuracy: 0.7507\n",
      "Epoch 47/100\n",
      "909/909 [==============================] - 0s 47us/step - loss: 0.3677 - categorical_accuracy: 0.7514 - val_loss: 0.3134 - val_categorical_accuracy: 0.7521\n"
     ]
    },
    {
     "name": "stdout",
     "output_type": "stream",
     "text": [
      "Epoch 48/100\n",
      "909/909 [==============================] - 0s 48us/step - loss: 0.3639 - categorical_accuracy: 0.7529 - val_loss: 0.3100 - val_categorical_accuracy: 0.7537\n",
      "Epoch 49/100\n",
      "909/909 [==============================] - 0s 44us/step - loss: 0.3536 - categorical_accuracy: 0.7545 - val_loss: 0.3087 - val_categorical_accuracy: 0.7553\n",
      "Epoch 50/100\n",
      "909/909 [==============================] - 0s 47us/step - loss: 0.3591 - categorical_accuracy: 0.7561 - val_loss: 0.3078 - val_categorical_accuracy: 0.7568\n",
      "Epoch 51/100\n",
      "909/909 [==============================] - 0s 50us/step - loss: 0.3715 - categorical_accuracy: 0.7574 - val_loss: 0.3096 - val_categorical_accuracy: 0.7580\n",
      "Epoch 52/100\n",
      "909/909 [==============================] - 0s 48us/step - loss: 0.3555 - categorical_accuracy: 0.7585 - val_loss: 0.3079 - val_categorical_accuracy: 0.7592\n",
      "Epoch 53/100\n",
      "909/909 [==============================] - 0s 46us/step - loss: 0.3601 - categorical_accuracy: 0.7599 - val_loss: 0.3059 - val_categorical_accuracy: 0.7606\n",
      "Epoch 54/100\n",
      "909/909 [==============================] - 0s 46us/step - loss: 0.3760 - categorical_accuracy: 0.7611 - val_loss: 0.3036 - val_categorical_accuracy: 0.7617\n",
      "Epoch 55/100\n",
      "909/909 [==============================] - 0s 46us/step - loss: 0.3674 - categorical_accuracy: 0.7623 - val_loss: 0.3029 - val_categorical_accuracy: 0.7629\n",
      "Epoch 56/100\n",
      "909/909 [==============================] - 0s 46us/step - loss: 0.3598 - categorical_accuracy: 0.7636 - val_loss: 0.3020 - val_categorical_accuracy: 0.7641\n",
      "Epoch 57/100\n",
      "909/909 [==============================] - 0s 46us/step - loss: 0.3576 - categorical_accuracy: 0.7647 - val_loss: 0.3002 - val_categorical_accuracy: 0.7653\n",
      "Epoch 58/100\n",
      "909/909 [==============================] - 0s 47us/step - loss: 0.3537 - categorical_accuracy: 0.7658 - val_loss: 0.2996 - val_categorical_accuracy: 0.7664\n",
      "Epoch 59/100\n",
      "909/909 [==============================] - 0s 48us/step - loss: 0.3495 - categorical_accuracy: 0.7670 - val_loss: 0.2992 - val_categorical_accuracy: 0.7676\n",
      "Epoch 60/100\n",
      "909/909 [==============================] - 0s 47us/step - loss: 0.3474 - categorical_accuracy: 0.7681 - val_loss: 0.2989 - val_categorical_accuracy: 0.7687\n",
      "Epoch 61/100\n",
      "909/909 [==============================] - 0s 47us/step - loss: 0.3542 - categorical_accuracy: 0.7693 - val_loss: 0.2994 - val_categorical_accuracy: 0.7698\n",
      "Epoch 62/100\n",
      "909/909 [==============================] - 0s 45us/step - loss: 0.3498 - categorical_accuracy: 0.7703 - val_loss: 0.2996 - val_categorical_accuracy: 0.7709\n",
      "Epoch 63/100\n",
      "909/909 [==============================] - 0s 46us/step - loss: 0.3588 - categorical_accuracy: 0.7713 - val_loss: 0.2995 - val_categorical_accuracy: 0.7717\n",
      "Epoch 64/100\n",
      "909/909 [==============================] - 0s 46us/step - loss: 0.3467 - categorical_accuracy: 0.7721 - val_loss: 0.2988 - val_categorical_accuracy: 0.7726\n",
      "Epoch 65/100\n",
      "909/909 [==============================] - 0s 47us/step - loss: 0.3505 - categorical_accuracy: 0.7730 - val_loss: 0.2987 - val_categorical_accuracy: 0.7734\n",
      "Epoch 66/100\n",
      "909/909 [==============================] - 0s 47us/step - loss: 0.3471 - categorical_accuracy: 0.7739 - val_loss: 0.2971 - val_categorical_accuracy: 0.7743\n",
      "Epoch 67/100\n",
      "909/909 [==============================] - 0s 47us/step - loss: 0.3435 - categorical_accuracy: 0.7748 - val_loss: 0.2968 - val_categorical_accuracy: 0.7752\n",
      "Epoch 68/100\n",
      "909/909 [==============================] - 0s 48us/step - loss: 0.3247 - categorical_accuracy: 0.7757 - val_loss: 0.2951 - val_categorical_accuracy: 0.7761\n",
      "Epoch 69/100\n",
      "909/909 [==============================] - 0s 52us/step - loss: 0.3446 - categorical_accuracy: 0.7766 - val_loss: 0.2972 - val_categorical_accuracy: 0.7769\n",
      "Epoch 70/100\n",
      "909/909 [==============================] - 0s 45us/step - loss: 0.3398 - categorical_accuracy: 0.7773 - val_loss: 0.2980 - val_categorical_accuracy: 0.7777\n",
      "Epoch 71/100\n",
      "909/909 [==============================] - 0s 46us/step - loss: 0.3480 - categorical_accuracy: 0.7780 - val_loss: 0.2971 - val_categorical_accuracy: 0.7785\n",
      "Epoch 72/100\n",
      "909/909 [==============================] - 0s 47us/step - loss: 0.3373 - categorical_accuracy: 0.7789 - val_loss: 0.2950 - val_categorical_accuracy: 0.7792\n",
      "Epoch 73/100\n",
      "909/909 [==============================] - 0s 46us/step - loss: 0.3409 - categorical_accuracy: 0.7795 - val_loss: 0.2950 - val_categorical_accuracy: 0.7799\n",
      "Epoch 74/100\n",
      "909/909 [==============================] - 0s 61us/step - loss: 0.3336 - categorical_accuracy: 0.7803 - val_loss: 0.2943 - val_categorical_accuracy: 0.7808\n",
      "Epoch 75/100\n",
      "909/909 [==============================] - 0s 48us/step - loss: 0.3400 - categorical_accuracy: 0.7811 - val_loss: 0.2966 - val_categorical_accuracy: 0.7815\n",
      "Epoch 76/100\n",
      "909/909 [==============================] - 0s 57us/step - loss: 0.3340 - categorical_accuracy: 0.7818 - val_loss: 0.2957 - val_categorical_accuracy: 0.7821\n",
      "Epoch 77/100\n",
      "909/909 [==============================] - 0s 53us/step - loss: 0.3385 - categorical_accuracy: 0.7824 - val_loss: 0.2954 - val_categorical_accuracy: 0.7829\n",
      "Epoch 78/100\n",
      "909/909 [==============================] - 0s 54us/step - loss: 0.3378 - categorical_accuracy: 0.7831 - val_loss: 0.2955 - val_categorical_accuracy: 0.7835\n",
      "Epoch 79/100\n",
      "909/909 [==============================] - 0s 55us/step - loss: 0.3382 - categorical_accuracy: 0.7839 - val_loss: 0.2961 - val_categorical_accuracy: 0.7842\n"
     ]
    }
   ],
   "source": [
    "history = model.fit(X_train, y_train, epochs = 100, batch_size = 20, callbacks=my_callbacks, validation_data=[X_test, y_test]\n",
    ")"
   ]
  },
  {
   "cell_type": "code",
   "execution_count": null,
   "metadata": {},
   "outputs": [],
   "source": [
    "ypreds = model.predict(X_test)"
   ]
  },
  {
   "cell_type": "code",
   "execution_count": null,
   "metadata": {},
   "outputs": [],
   "source": [
    "ypreds"
   ]
  },
  {
   "cell_type": "code",
   "execution_count": null,
   "metadata": {},
   "outputs": [],
   "source": [
    "samplesubmission = pd.DataFrame(ypreds, columns = ['1','2'])"
   ]
  },
  {
   "cell_type": "code",
   "execution_count": null,
   "metadata": {},
   "outputs": [],
   "source": [
    "samplesubmission"
   ]
  },
  {
   "cell_type": "code",
   "execution_count": null,
   "metadata": {},
   "outputs": [],
   "source": [
    "def ontocat(arr):\n",
    "    return np.array([0 if i[0]==1 else 1 for i in arr])\n",
    "\n",
    "catypreds = ontocat(ypreds)\n",
    "catytest = ontocat(y_test)"
   ]
  },
  {
   "cell_type": "markdown",
   "metadata": {},
   "source": [
    "# Validation"
   ]
  },
  {
   "cell_type": "code",
   "execution_count": 19,
   "metadata": {},
   "outputs": [],
   "source": [
    "testData = pd.read_csv('Glass_Quality_Participants_Data/Test.csv')"
   ]
  },
  {
   "cell_type": "code",
   "execution_count": 20,
   "metadata": {},
   "outputs": [],
   "source": [
    "testfeatures = testData.drop(columns=['pixel_area', 'xmax','ymax'])"
   ]
  },
  {
   "cell_type": "code",
   "execution_count": 21,
   "metadata": {},
   "outputs": [],
   "source": [
    "testfeatures = testfeatures.astype('float')"
   ]
  },
  {
   "cell_type": "code",
   "execution_count": 22,
   "metadata": {},
   "outputs": [],
   "source": [
    "tfeatures = testfeatures.loc[:,['max_luminosity','thickness','xmin','ymin','log_area']]\n",
    "\n",
    "scaler = StandardScaler()\n",
    "scaler.fit(tfeatures)\n",
    "tfeatures = scaler.transform(tfeatures)\n",
    "\n",
    "tfeatures = pd.DataFrame(tfeatures,columns=['max_luminosity','thickness','xmin','ymin','log_area'])\n",
    "\n",
    "testfeatures = testfeatures.drop(columns=['max_luminosity','thickness','xmin','ymin','log_area'])\n",
    "\n",
    "normalized_features = pd.concat([testfeatures,tfeatures],axis=1)"
   ]
  },
  {
   "cell_type": "code",
   "execution_count": 23,
   "metadata": {},
   "outputs": [],
   "source": [
    "np_testfeatures = normalized_features.to_numpy()"
   ]
  },
  {
   "cell_type": "code",
   "execution_count": 24,
   "metadata": {},
   "outputs": [],
   "source": [
    "testpreds = model.predict(np_testfeatures)"
   ]
  },
  {
   "cell_type": "code",
   "execution_count": 25,
   "metadata": {},
   "outputs": [],
   "source": [
    "testpreds_df = pd.DataFrame(testpreds, columns=['1','2'])"
   ]
  },
  {
   "cell_type": "code",
   "execution_count": 26,
   "metadata": {},
   "outputs": [],
   "source": [
    "testpreds_df.to_excel('submission4.xlsx', index=False)"
   ]
  }
 ],
 "metadata": {
  "kernelspec": {
   "display_name": "Python 3",
   "language": "python",
   "name": "python3"
  },
  "language_info": {
   "codemirror_mode": {
    "name": "ipython",
    "version": 3
   },
   "file_extension": ".py",
   "mimetype": "text/x-python",
   "name": "python",
   "nbconvert_exporter": "python",
   "pygments_lexer": "ipython3",
   "version": "3.6.9"
  }
 },
 "nbformat": 4,
 "nbformat_minor": 4
}
