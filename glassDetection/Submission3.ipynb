{
 "cells": [
  {
   "cell_type": "code",
   "execution_count": 2,
   "metadata": {},
   "outputs": [],
   "source": [
    "import pandas as pd\n",
    "import numpy as np\n",
    "from keras.callbacks import EarlyStopping\n",
    "from sklearn.preprocessing import OrdinalEncoder, OneHotEncoder\n",
    "import tensorflow as tf\n",
    "from sklearn.preprocessing import StandardScaler"
   ]
  },
  {
   "cell_type": "code",
   "execution_count": 3,
   "metadata": {},
   "outputs": [],
   "source": [
    "trainData = pd.read_csv('Glass_Quality_Participants_Data/Train.csv')"
   ]
  },
  {
   "cell_type": "code",
   "execution_count": null,
   "metadata": {},
   "outputs": [],
   "source": [
    "# Number of columns = 16  Train\n",
    "# Number of rows = 1358   Train\n",
    "\n",
    "# Number of columns = 15  Test\n",
    "# Number of rows = 583   Test"
   ]
  },
  {
   "cell_type": "code",
   "execution_count": null,
   "metadata": {},
   "outputs": [],
   "source": [
    "# Columns\n",
    "# Index(['grade_A_Component_1', 'grade_A_Component_2', 'max_luminosity',\n",
    "#        'thickness', 'xmin', 'xmax', 'ymin', 'ymax', 'pixel_area', 'log_area',\n",
    "#        'x_component_1', 'x_component_2', 'x_component_3', 'x_component_4',\n",
    "#        'x_component_5', 'class'],\n",
    "#       dtype='object')"
   ]
  },
  {
   "cell_type": "code",
   "execution_count": 4,
   "metadata": {},
   "outputs": [],
   "source": [
    "features = trainData.iloc[:,:-1]\n",
    "labels = trainData.iloc[:,-1]"
   ]
  },
  {
   "cell_type": "code",
   "execution_count": 5,
   "metadata": {},
   "outputs": [
    {
     "data": {
      "text/plain": [
       "(1358, 1)"
      ]
     },
     "execution_count": 5,
     "metadata": {},
     "output_type": "execute_result"
    }
   ],
   "source": [
    "labels = labels.values.reshape(-1,1)\n",
    "# labels = np.array([i[0]-1 for i in labels]).reshape(-1,1)\n",
    "labels.shape"
   ]
  },
  {
   "cell_type": "code",
   "execution_count": 6,
   "metadata": {},
   "outputs": [],
   "source": [
    "def ohencoder(labels):\n",
    "    return np.array([[0,1] if i[0] == 2 else [1,0] for i in labels])\n",
    "\n",
    "ohencoded_labels = ohencoder(labels)"
   ]
  },
  {
   "cell_type": "code",
   "execution_count": null,
   "metadata": {},
   "outputs": [],
   "source": [
    "ohencoded_labels.shape"
   ]
  },
  {
   "cell_type": "code",
   "execution_count": 7,
   "metadata": {},
   "outputs": [],
   "source": [
    "features = features.astype('float')"
   ]
  },
  {
   "cell_type": "code",
   "execution_count": null,
   "metadata": {},
   "outputs": [],
   "source": [
    "features.info()"
   ]
  },
  {
   "cell_type": "code",
   "execution_count": null,
   "metadata": {},
   "outputs": [],
   "source": [
    "# x and grade_A are categorical variables\n",
    "# No missing values"
   ]
  },
  {
   "cell_type": "code",
   "execution_count": null,
   "metadata": {},
   "outputs": [],
   "source": [
    "import matplotlib.pyplot as plt\n",
    "%matplotlib inline\n",
    "\n",
    "features.hist(column=[\"xmax\", \"xmin\",\"ymin\",\"ymax\",])"
   ]
  },
  {
   "cell_type": "code",
   "execution_count": null,
   "metadata": {},
   "outputs": [],
   "source": [
    "features.hist(column=[\"max_luminosity\",\"pixel_area\",\"log_area\"])#,,,"
   ]
  },
  {
   "cell_type": "code",
   "execution_count": null,
   "metadata": {},
   "outputs": [],
   "source": [
    "features.corr()"
   ]
  },
  {
   "cell_type": "code",
   "execution_count": null,
   "metadata": {},
   "outputs": [],
   "source": [
    "# pixel_area and log_area\n",
    "# xmin and xmax\n",
    "# ymin and ymax\n",
    "# The above pairs have a very high degree of positive correlation"
   ]
  },
  {
   "cell_type": "code",
   "execution_count": 8,
   "metadata": {},
   "outputs": [],
   "source": [
    "features = features.drop(columns=['pixel_area', 'xmax','ymax'])"
   ]
  },
  {
   "cell_type": "code",
   "execution_count": 9,
   "metadata": {},
   "outputs": [],
   "source": [
    "tfeatures = features.loc[:,['max_luminosity','thickness','xmin','ymin','log_area']]"
   ]
  },
  {
   "cell_type": "code",
   "execution_count": 10,
   "metadata": {},
   "outputs": [],
   "source": [
    "scaler = StandardScaler()\n",
    "scaler.fit(tfeatures)\n",
    "tfeatures = scaler.transform(tfeatures)"
   ]
  },
  {
   "cell_type": "code",
   "execution_count": 11,
   "metadata": {},
   "outputs": [],
   "source": [
    "tfeatures = pd.DataFrame(tfeatures,columns=['max_luminosity','thickness','xmin','ymin','log_area'])"
   ]
  },
  {
   "cell_type": "code",
   "execution_count": 12,
   "metadata": {},
   "outputs": [],
   "source": [
    "features = features.drop(columns=['max_luminosity','thickness','xmin','ymin','log_area'])"
   ]
  },
  {
   "cell_type": "code",
   "execution_count": 13,
   "metadata": {},
   "outputs": [],
   "source": [
    "normalized_features = pd.concat([features,tfeatures],axis=1)"
   ]
  },
  {
   "cell_type": "code",
   "execution_count": 14,
   "metadata": {},
   "outputs": [
    {
     "data": {
      "text/plain": [
       "(1358, 12)"
      ]
     },
     "execution_count": 14,
     "metadata": {},
     "output_type": "execute_result"
    }
   ],
   "source": [
    "normalized_features.shape"
   ]
  },
  {
   "cell_type": "code",
   "execution_count": null,
   "metadata": {},
   "outputs": [],
   "source": [
    "normalized_features.corr()"
   ]
  },
  {
   "cell_type": "code",
   "execution_count": 16,
   "metadata": {},
   "outputs": [],
   "source": [
    "np_features = normalized_features.to_numpy()\n",
    "np_labels = ohencoded_labels"
   ]
  },
  {
   "cell_type": "code",
   "execution_count": 17,
   "metadata": {},
   "outputs": [],
   "source": [
    "from sklearn.model_selection import train_test_split\n",
    "X_train, X_test, y_train, y_test = train_test_split(np_features, np_labels, test_size=0.33, random_state=42)"
   ]
  },
  {
   "cell_type": "code",
   "execution_count": null,
   "metadata": {},
   "outputs": [],
   "source": [
    "X_train.shape, X_test.shape"
   ]
  },
  {
   "cell_type": "code",
   "execution_count": 18,
   "metadata": {},
   "outputs": [],
   "source": [
    "from keras import models, layers, optimizers\n",
    "model = models.Sequential()\n",
    "model.add(layers.Dense(10, activation = 'relu', input_dim = 12))\n",
    "model.add(layers.Dropout(0.5))\n",
    "model.add(layers.Dense(5, activation = 'relu'))\n",
    "model.add(layers.Dense(8, activation = 'relu'))\n",
    "model.add(layers.Dense(2, activation = 'softmax'))\n",
    "\n",
    "\n",
    "model.compile(optimizer = optimizers.adam(lr = 1e-3),\n",
    "              loss = 'categorical_crossentropy',\n",
    "              metrics = [tf.keras.metrics.CategoricalAccuracy()]\n",
    "             )"
   ]
  },
  {
   "cell_type": "code",
   "execution_count": 19,
   "metadata": {},
   "outputs": [],
   "source": [
    "my_callbacks = [\n",
    "    EarlyStopping(patience=5),\n",
    "    \n",
    "    \n",
    "]"
   ]
  },
  {
   "cell_type": "code",
   "execution_count": 20,
   "metadata": {},
   "outputs": [
    {
     "name": "stdout",
     "output_type": "stream",
     "text": [
      "WARNING:tensorflow:From /home/shouvik/Desktop/DeepLearning/dl/lib/python3.6/site-packages/keras/backend/tensorflow_backend.py:422: The name tf.global_variables is deprecated. Please use tf.compat.v1.global_variables instead.\n",
      "\n",
      "Train on 909 samples, validate on 449 samples\n",
      "Epoch 1/100\n",
      "909/909 [==============================] - 0s 332us/step - loss: 0.6702 - categorical_accuracy: 0.5656 - val_loss: 0.6407 - val_categorical_accuracy: 0.6068\n",
      "Epoch 2/100\n",
      "909/909 [==============================] - 0s 93us/step - loss: 0.6414 - categorical_accuracy: 0.6229 - val_loss: 0.6169 - val_categorical_accuracy: 0.6305\n",
      "Epoch 3/100\n",
      "909/909 [==============================] - 0s 85us/step - loss: 0.6288 - categorical_accuracy: 0.6362 - val_loss: 0.6015 - val_categorical_accuracy: 0.6385\n",
      "Epoch 4/100\n",
      "909/909 [==============================] - 0s 88us/step - loss: 0.6067 - categorical_accuracy: 0.6387 - val_loss: 0.5894 - val_categorical_accuracy: 0.6423\n",
      "Epoch 5/100\n",
      "909/909 [==============================] - 0s 82us/step - loss: 0.6113 - categorical_accuracy: 0.6429 - val_loss: 0.5779 - val_categorical_accuracy: 0.6446\n",
      "Epoch 6/100\n",
      "909/909 [==============================] - 0s 89us/step - loss: 0.5876 - categorical_accuracy: 0.6455 - val_loss: 0.5665 - val_categorical_accuracy: 0.6460\n",
      "Epoch 7/100\n",
      "909/909 [==============================] - 0s 82us/step - loss: 0.5881 - categorical_accuracy: 0.6462 - val_loss: 0.5572 - val_categorical_accuracy: 0.6471\n",
      "Epoch 8/100\n",
      "909/909 [==============================] - 0s 80us/step - loss: 0.5726 - categorical_accuracy: 0.6470 - val_loss: 0.5462 - val_categorical_accuracy: 0.6483\n",
      "Epoch 9/100\n",
      "909/909 [==============================] - 0s 84us/step - loss: 0.5695 - categorical_accuracy: 0.6484 - val_loss: 0.5346 - val_categorical_accuracy: 0.6495\n",
      "Epoch 10/100\n",
      "909/909 [==============================] - 0s 85us/step - loss: 0.5538 - categorical_accuracy: 0.6500 - val_loss: 0.5196 - val_categorical_accuracy: 0.6516\n",
      "Epoch 11/100\n",
      "909/909 [==============================] - 0s 86us/step - loss: 0.5412 - categorical_accuracy: 0.6519 - val_loss: 0.5055 - val_categorical_accuracy: 0.6534\n",
      "Epoch 12/100\n",
      "909/909 [==============================] - 0s 86us/step - loss: 0.5198 - categorical_accuracy: 0.6543 - val_loss: 0.4839 - val_categorical_accuracy: 0.6567\n",
      "Epoch 13/100\n",
      "909/909 [==============================] - 0s 84us/step - loss: 0.5191 - categorical_accuracy: 0.6582 - val_loss: 0.4685 - val_categorical_accuracy: 0.6610\n",
      "Epoch 14/100\n",
      "909/909 [==============================] - 0s 84us/step - loss: 0.4924 - categorical_accuracy: 0.6634 - val_loss: 0.4497 - val_categorical_accuracy: 0.6664\n",
      "Epoch 15/100\n",
      "909/909 [==============================] - 0s 83us/step - loss: 0.4845 - categorical_accuracy: 0.6694 - val_loss: 0.4335 - val_categorical_accuracy: 0.6723\n",
      "Epoch 16/100\n",
      "909/909 [==============================] - 0s 80us/step - loss: 0.4815 - categorical_accuracy: 0.6741 - val_loss: 0.4191 - val_categorical_accuracy: 0.6765\n",
      "Epoch 17/100\n",
      "909/909 [==============================] - 0s 81us/step - loss: 0.4728 - categorical_accuracy: 0.6787 - val_loss: 0.4060 - val_categorical_accuracy: 0.6813\n",
      "Epoch 18/100\n",
      "909/909 [==============================] - 0s 81us/step - loss: 0.4439 - categorical_accuracy: 0.6842 - val_loss: 0.3934 - val_categorical_accuracy: 0.6869\n",
      "Epoch 19/100\n",
      "909/909 [==============================] - 0s 86us/step - loss: 0.4508 - categorical_accuracy: 0.6889 - val_loss: 0.3810 - val_categorical_accuracy: 0.6910\n",
      "Epoch 20/100\n",
      "909/909 [==============================] - 0s 86us/step - loss: 0.4412 - categorical_accuracy: 0.6933 - val_loss: 0.3724 - val_categorical_accuracy: 0.6952\n",
      "Epoch 21/100\n",
      "909/909 [==============================] - 0s 84us/step - loss: 0.4372 - categorical_accuracy: 0.6974 - val_loss: 0.3654 - val_categorical_accuracy: 0.7000\n",
      "Epoch 22/100\n",
      "909/909 [==============================] - 0s 79us/step - loss: 0.4235 - categorical_accuracy: 0.7024 - val_loss: 0.3537 - val_categorical_accuracy: 0.7044\n",
      "Epoch 23/100\n",
      "909/909 [==============================] - 0s 89us/step - loss: 0.4390 - categorical_accuracy: 0.7059 - val_loss: 0.3487 - val_categorical_accuracy: 0.7078\n",
      "Epoch 24/100\n",
      "909/909 [==============================] - 0s 82us/step - loss: 0.4056 - categorical_accuracy: 0.7096 - val_loss: 0.3435 - val_categorical_accuracy: 0.7116\n",
      "Epoch 25/100\n",
      "909/909 [==============================] - 0s 79us/step - loss: 0.3988 - categorical_accuracy: 0.7131 - val_loss: 0.3389 - val_categorical_accuracy: 0.7149\n",
      "Epoch 26/100\n",
      "909/909 [==============================] - 0s 79us/step - loss: 0.4132 - categorical_accuracy: 0.7161 - val_loss: 0.3360 - val_categorical_accuracy: 0.7178\n",
      "Epoch 27/100\n",
      "909/909 [==============================] - 0s 79us/step - loss: 0.4090 - categorical_accuracy: 0.7191 - val_loss: 0.3355 - val_categorical_accuracy: 0.7207\n",
      "Epoch 28/100\n",
      "909/909 [==============================] - 0s 84us/step - loss: 0.3932 - categorical_accuracy: 0.7224 - val_loss: 0.3323 - val_categorical_accuracy: 0.7240\n",
      "Epoch 29/100\n",
      "909/909 [==============================] - 0s 86us/step - loss: 0.3858 - categorical_accuracy: 0.7256 - val_loss: 0.3303 - val_categorical_accuracy: 0.7272\n",
      "Epoch 30/100\n",
      "909/909 [==============================] - 0s 83us/step - loss: 0.3900 - categorical_accuracy: 0.7286 - val_loss: 0.3266 - val_categorical_accuracy: 0.7300\n",
      "Epoch 31/100\n",
      "909/909 [==============================] - 0s 80us/step - loss: 0.3944 - categorical_accuracy: 0.7312 - val_loss: 0.3261 - val_categorical_accuracy: 0.7326\n",
      "Epoch 32/100\n",
      "909/909 [==============================] - 0s 88us/step - loss: 0.4168 - categorical_accuracy: 0.7336 - val_loss: 0.3270 - val_categorical_accuracy: 0.7346\n",
      "Epoch 33/100\n",
      "909/909 [==============================] - 0s 89us/step - loss: 0.3919 - categorical_accuracy: 0.7356 - val_loss: 0.3272 - val_categorical_accuracy: 0.7365\n",
      "Epoch 34/100\n",
      "909/909 [==============================] - 0s 90us/step - loss: 0.3907 - categorical_accuracy: 0.7376 - val_loss: 0.3263 - val_categorical_accuracy: 0.7385\n",
      "Epoch 35/100\n",
      "909/909 [==============================] - 0s 87us/step - loss: 0.3808 - categorical_accuracy: 0.7394 - val_loss: 0.3226 - val_categorical_accuracy: 0.7404\n",
      "Epoch 36/100\n",
      "909/909 [==============================] - 0s 85us/step - loss: 0.3729 - categorical_accuracy: 0.7413 - val_loss: 0.3207 - val_categorical_accuracy: 0.7424\n",
      "Epoch 37/100\n",
      "909/909 [==============================] - 0s 83us/step - loss: 0.3748 - categorical_accuracy: 0.7433 - val_loss: 0.3176 - val_categorical_accuracy: 0.7443\n",
      "Epoch 38/100\n",
      "909/909 [==============================] - 0s 84us/step - loss: 0.3629 - categorical_accuracy: 0.7451 - val_loss: 0.3151 - val_categorical_accuracy: 0.7460\n",
      "Epoch 39/100\n",
      "909/909 [==============================] - 0s 90us/step - loss: 0.3796 - categorical_accuracy: 0.7467 - val_loss: 0.3140 - val_categorical_accuracy: 0.7476\n",
      "Epoch 40/100\n",
      "909/909 [==============================] - 0s 84us/step - loss: 0.3639 - categorical_accuracy: 0.7485 - val_loss: 0.3155 - val_categorical_accuracy: 0.7494\n",
      "Epoch 41/100\n",
      "909/909 [==============================] - 0s 89us/step - loss: 0.3773 - categorical_accuracy: 0.7503 - val_loss: 0.3126 - val_categorical_accuracy: 0.7511\n",
      "Epoch 42/100\n",
      "909/909 [==============================] - 0s 83us/step - loss: 0.3768 - categorical_accuracy: 0.7519 - val_loss: 0.3128 - val_categorical_accuracy: 0.7526\n",
      "Epoch 43/100\n",
      "909/909 [==============================] - 0s 86us/step - loss: 0.3573 - categorical_accuracy: 0.7534 - val_loss: 0.3102 - val_categorical_accuracy: 0.7542\n",
      "Epoch 44/100\n",
      "909/909 [==============================] - 0s 96us/step - loss: 0.3645 - categorical_accuracy: 0.7549 - val_loss: 0.3105 - val_categorical_accuracy: 0.7557\n",
      "Epoch 45/100\n",
      "909/909 [==============================] - 0s 84us/step - loss: 0.3580 - categorical_accuracy: 0.7563 - val_loss: 0.3057 - val_categorical_accuracy: 0.7572\n",
      "Epoch 46/100\n",
      "909/909 [==============================] - 0s 90us/step - loss: 0.3605 - categorical_accuracy: 0.7580 - val_loss: 0.3057 - val_categorical_accuracy: 0.7586\n",
      "Epoch 47/100\n",
      "909/909 [==============================] - 0s 84us/step - loss: 0.3600 - categorical_accuracy: 0.7592 - val_loss: 0.3055 - val_categorical_accuracy: 0.7598\n"
     ]
    },
    {
     "name": "stdout",
     "output_type": "stream",
     "text": [
      "Epoch 48/100\n",
      "909/909 [==============================] - 0s 84us/step - loss: 0.3650 - categorical_accuracy: 0.7603 - val_loss: 0.3055 - val_categorical_accuracy: 0.7608\n",
      "Epoch 49/100\n",
      "909/909 [==============================] - 0s 82us/step - loss: 0.3721 - categorical_accuracy: 0.7613 - val_loss: 0.3053 - val_categorical_accuracy: 0.7620\n",
      "Epoch 50/100\n",
      "909/909 [==============================] - 0s 81us/step - loss: 0.3597 - categorical_accuracy: 0.7624 - val_loss: 0.3026 - val_categorical_accuracy: 0.7629\n",
      "Epoch 51/100\n",
      "909/909 [==============================] - 0s 81us/step - loss: 0.3601 - categorical_accuracy: 0.7634 - val_loss: 0.3032 - val_categorical_accuracy: 0.7639\n",
      "Epoch 52/100\n",
      "909/909 [==============================] - 0s 79us/step - loss: 0.3663 - categorical_accuracy: 0.7643 - val_loss: 0.3005 - val_categorical_accuracy: 0.7647\n",
      "Epoch 53/100\n",
      "909/909 [==============================] - 0s 86us/step - loss: 0.3550 - categorical_accuracy: 0.7652 - val_loss: 0.3023 - val_categorical_accuracy: 0.7657\n",
      "Epoch 54/100\n",
      "909/909 [==============================] - 0s 83us/step - loss: 0.3536 - categorical_accuracy: 0.7663 - val_loss: 0.3000 - val_categorical_accuracy: 0.7668\n",
      "Epoch 55/100\n",
      "909/909 [==============================] - 0s 82us/step - loss: 0.3554 - categorical_accuracy: 0.7674 - val_loss: 0.2995 - val_categorical_accuracy: 0.7679\n",
      "Epoch 56/100\n",
      "909/909 [==============================] - 0s 92us/step - loss: 0.3662 - categorical_accuracy: 0.7683 - val_loss: 0.3031 - val_categorical_accuracy: 0.7686\n",
      "Epoch 57/100\n",
      "909/909 [==============================] - 0s 107us/step - loss: 0.3625 - categorical_accuracy: 0.7690 - val_loss: 0.3023 - val_categorical_accuracy: 0.7695\n",
      "Epoch 58/100\n",
      "909/909 [==============================] - 0s 102us/step - loss: 0.3672 - categorical_accuracy: 0.7698 - val_loss: 0.3021 - val_categorical_accuracy: 0.7703\n",
      "Epoch 59/100\n",
      "909/909 [==============================] - 0s 100us/step - loss: 0.3456 - categorical_accuracy: 0.7707 - val_loss: 0.2994 - val_categorical_accuracy: 0.7713\n",
      "Epoch 60/100\n",
      "909/909 [==============================] - 0s 82us/step - loss: 0.3342 - categorical_accuracy: 0.7719 - val_loss: 0.2957 - val_categorical_accuracy: 0.7724\n",
      "Epoch 61/100\n",
      "909/909 [==============================] - 0s 79us/step - loss: 0.3486 - categorical_accuracy: 0.7728 - val_loss: 0.2934 - val_categorical_accuracy: 0.7732\n",
      "Epoch 62/100\n",
      "909/909 [==============================] - 0s 81us/step - loss: 0.3506 - categorical_accuracy: 0.7737 - val_loss: 0.2935 - val_categorical_accuracy: 0.7741\n",
      "Epoch 63/100\n",
      "909/909 [==============================] - 0s 77us/step - loss: 0.3490 - categorical_accuracy: 0.7745 - val_loss: 0.2940 - val_categorical_accuracy: 0.7749\n",
      "Epoch 64/100\n",
      "909/909 [==============================] - 0s 80us/step - loss: 0.3595 - categorical_accuracy: 0.7753 - val_loss: 0.2958 - val_categorical_accuracy: 0.7757\n",
      "Epoch 65/100\n",
      "909/909 [==============================] - 0s 85us/step - loss: 0.3526 - categorical_accuracy: 0.7760 - val_loss: 0.2957 - val_categorical_accuracy: 0.7764\n",
      "Epoch 66/100\n",
      "909/909 [==============================] - 0s 86us/step - loss: 0.3481 - categorical_accuracy: 0.7767 - val_loss: 0.2938 - val_categorical_accuracy: 0.7771\n"
     ]
    }
   ],
   "source": [
    "history = model.fit(X_train, y_train, epochs = 100, batch_size = 20, callbacks=my_callbacks, validation_data=[X_test, y_test]\n",
    ")"
   ]
  },
  {
   "cell_type": "code",
   "execution_count": null,
   "metadata": {},
   "outputs": [],
   "source": [
    "ypreds = model.predict(X_test)"
   ]
  },
  {
   "cell_type": "code",
   "execution_count": null,
   "metadata": {},
   "outputs": [],
   "source": [
    "ypreds"
   ]
  },
  {
   "cell_type": "code",
   "execution_count": null,
   "metadata": {},
   "outputs": [],
   "source": [
    "samplesubmission = pd.DataFrame(ypreds, columns = ['1','2'])"
   ]
  },
  {
   "cell_type": "code",
   "execution_count": null,
   "metadata": {},
   "outputs": [],
   "source": [
    "samplesubmission"
   ]
  },
  {
   "cell_type": "code",
   "execution_count": null,
   "metadata": {},
   "outputs": [],
   "source": [
    "def ontocat(arr):\n",
    "    return np.array([0 if i[0]==1 else 1 for i in arr])\n",
    "\n",
    "catypreds = ontocat(ypreds)\n",
    "catytest = ontocat(y_test)"
   ]
  },
  {
   "cell_type": "markdown",
   "metadata": {},
   "source": [
    "# Validation"
   ]
  },
  {
   "cell_type": "code",
   "execution_count": 28,
   "metadata": {},
   "outputs": [],
   "source": [
    "testData = pd.read_csv('Glass_Quality_Participants_Data/Test.csv')"
   ]
  },
  {
   "cell_type": "code",
   "execution_count": 22,
   "metadata": {},
   "outputs": [],
   "source": [
    "testfeatures = testData.drop(columns=['pixel_area', 'xmax','ymax'])"
   ]
  },
  {
   "cell_type": "code",
   "execution_count": 23,
   "metadata": {},
   "outputs": [],
   "source": [
    "testfeatures = testfeatures.astype('float')"
   ]
  },
  {
   "cell_type": "code",
   "execution_count": 24,
   "metadata": {},
   "outputs": [],
   "source": [
    "np_testfeatures = testfeatures.to_numpy()"
   ]
  },
  {
   "cell_type": "code",
   "execution_count": 25,
   "metadata": {},
   "outputs": [],
   "source": [
    "testpreds = model.predict(np_testfeatures)"
   ]
  },
  {
   "cell_type": "code",
   "execution_count": 26,
   "metadata": {},
   "outputs": [],
   "source": [
    "testpreds_df = pd.DataFrame(testpreds, columns=['1','2'])"
   ]
  },
  {
   "cell_type": "code",
   "execution_count": 27,
   "metadata": {},
   "outputs": [],
   "source": [
    "testpreds_df.to_excel('submission3.xlsx', index=False)"
   ]
  }
 ],
 "metadata": {
  "kernelspec": {
   "display_name": "Python 3",
   "language": "python",
   "name": "python3"
  },
  "language_info": {
   "codemirror_mode": {
    "name": "ipython",
    "version": 3
   },
   "file_extension": ".py",
   "mimetype": "text/x-python",
   "name": "python",
   "nbconvert_exporter": "python",
   "pygments_lexer": "ipython3",
   "version": "3.6.9"
  }
 },
 "nbformat": 4,
 "nbformat_minor": 4
}
