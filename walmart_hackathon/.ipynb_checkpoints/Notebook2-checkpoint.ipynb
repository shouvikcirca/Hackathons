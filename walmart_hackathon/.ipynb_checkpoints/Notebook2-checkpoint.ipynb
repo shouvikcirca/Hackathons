{
 "cells": [
  {
   "cell_type": "code",
   "execution_count": 1,
   "metadata": {
    "_cell_guid": "79c7e3d0-c299-4dcb-8224-4455121ee9b0",
    "_uuid": "d629ff2d2480ee46fbb7e2d37f6b5fab8052498a"
   },
   "outputs": [],
   "source": [
    "import pandas as pd \n",
    "import numpy as np"
   ]
  },
  {
   "cell_type": "code",
   "execution_count": 2,
   "metadata": {},
   "outputs": [],
   "source": [
    "# dataset = pd.read_csv(\"../input/walmart-retail/dataset.csv\")\n",
    "dataset = pd.read_csv(\"dataset.csv\")"
   ]
  },
  {
   "cell_type": "code",
   "execution_count": 3,
   "metadata": {},
   "outputs": [],
   "source": [
    "dataset = dataset.drop(columns = ['Item_id'])"
   ]
  },
  {
   "cell_type": "code",
   "execution_count": 4,
   "metadata": {},
   "outputs": [],
   "source": [
    "npdataset = dataset.values"
   ]
  },
  {
   "cell_type": "code",
   "execution_count": 5,
   "metadata": {},
   "outputs": [
    {
     "data": {
      "text/plain": [
       "5778972"
      ]
     },
     "execution_count": 5,
     "metadata": {},
     "output_type": "execute_result"
    }
   ],
   "source": [
    "base_revenue = 0\n",
    "for i in npdataset:\n",
    "    base_revenue+=(i[0]*i[1])\n",
    "\n",
    "base_revenue"
   ]
  },
  {
   "cell_type": "code",
   "execution_count": 6,
   "metadata": {},
   "outputs": [
    {
     "data": {
      "text/plain": [
       "144328"
      ]
     },
     "execution_count": 6,
     "metadata": {},
     "output_type": "execute_result"
    }
   ],
   "source": [
    "total_base_quantity = dataset.iloc[:,1].sum()\n",
    "total_base_quantity"
   ]
  },
  {
   "cell_type": "code",
   "execution_count": 7,
   "metadata": {},
   "outputs": [],
   "source": [
    "x = 1.07\n",
    "y = 1.2"
   ]
  },
  {
   "cell_type": "code",
   "execution_count": 8,
   "metadata": {},
   "outputs": [],
   "source": [
    "criterion1_revenuegainask = x*base_revenue\n",
    "criterion1_quantitygainask = y*total_base_quantity"
   ]
  },
  {
   "cell_type": "code",
   "execution_count": 20,
   "metadata": {},
   "outputs": [],
   "source": [
    "finalitems = []\n",
    "\n",
    "total_base_qty = 0\n",
    "total_sale_price = 0\n",
    "total_sale_qty = 0\n",
    "total_base_price = 0\n",
    "total_hit = 0\n",
    "\n",
    "\n",
    "for item in npdataset:\n",
    "    total_base_price+=(x*item[0]*item[1])\n",
    "    total_base_qty+=(y*item[1])\n",
    "    \n",
    "    if ((total_sale_price+item[0]*item[1]>= total_base_price) and (total_sale_qty+item[1] >= total_base_qty)):\n",
    "        total_sale_price+=(item[0]*item[1])\n",
    "        total_sale_qty+=item[1]\n",
    "        finalitems.append(0)\n",
    "        continue\n",
    "    \n",
    "    choose = []\n",
    "    for i in [2,4,6,8]:\n",
    "        choose.append([item[i],item[i+1], ((item[0] - item[i])*item[i+1]), i])\n",
    "    \n",
    "    newchoose = sorted(choose, key = lambda x:x[2])\n",
    "    item_chosen = 0\n",
    "    for prospective_item in newchoose:\n",
    "        if( (total_sale_price+prospective_item[0]*prospective_item[1]>=total_base_price) and (total_sale_qty+prospective_item[1] >= total_base_qty) ):\n",
    "            item_chosen = 1\n",
    "            total_sale_price+=(prospective_item[0]*prospective_item[1])\n",
    "            total_sale_qty+=prospective_item[1]\n",
    "            finalitems.append(prospective_item[3])\n",
    "            total_hit+=prospective_item[2]\n",
    "            break\n",
    "        \n",
    "    if item_chosen == 0:\n",
    "        maximum = newchoose[0][0]*newchoose[0][1]\n",
    "        maxid = 0\n",
    "        for c in range(len(newchoose)):\n",
    "            if(newchoose[c][0]*newchoose[c][1]>maximum):\n",
    "                maxid = c\n",
    "        total_sale_price+=(newchoose[maxid][0]*newchoose[maxid][1])\n",
    "        total_sale_qty+=newchoose[maxid][1]\n",
    "        finalitems.append(newchoose[maxid][3])\n",
    "        total_hit+=newchoose[maxid][2]\n",
    "\n",
    "                \n",
    "        "
   ]
  },
  {
   "cell_type": "code",
   "execution_count": 21,
   "metadata": {},
   "outputs": [],
   "source": [
    "submissionarray = []\n",
    "for i in finalitems:\n",
    "    if(i == 0):\n",
    "        submissionarray.append('Base_Price')\n",
    "    elif(i == 2):\n",
    "        submissionarray.append('Price1')\n",
    "    elif(i == 4):\n",
    "        submissionarray.append('Price2')\n",
    "    elif(i == 6):\n",
    "        submissionarray.append('Price3')\n",
    "    elif(i == 8):\n",
    "        submissionarray.append('Price4')\n",
    "    "
   ]
  },
  {
   "cell_type": "code",
   "execution_count": 22,
   "metadata": {},
   "outputs": [],
   "source": [
    "submissionarray = list(enumerate(submissionarray))"
   ]
  },
  {
   "cell_type": "code",
   "execution_count": 23,
   "metadata": {},
   "outputs": [],
   "source": [
    "submissionarray = [[i[0]+1, i[1]] for i in submissionarray]"
   ]
  },
  {
   "cell_type": "code",
   "execution_count": 13,
   "metadata": {},
   "outputs": [],
   "source": [
    "writeframe = pd.DataFrame(submissionarray)\n",
    "writeframe.columns = ['Item id', 'Price']"
   ]
  },
  {
   "cell_type": "code",
   "execution_count": 14,
   "metadata": {
    "_kg_hide-output": true,
    "collapsed": true,
    "jupyter": {
     "outputs_hidden": true
    }
   },
   "outputs": [
    {
     "data": {
      "text/html": [
       "<div>\n",
       "<style scoped>\n",
       "    .dataframe tbody tr th:only-of-type {\n",
       "        vertical-align: middle;\n",
       "    }\n",
       "\n",
       "    .dataframe tbody tr th {\n",
       "        vertical-align: top;\n",
       "    }\n",
       "\n",
       "    .dataframe thead th {\n",
       "        text-align: right;\n",
       "    }\n",
       "</style>\n",
       "<table border=\"1\" class=\"dataframe\">\n",
       "  <thead>\n",
       "    <tr style=\"text-align: right;\">\n",
       "      <th></th>\n",
       "      <th>Price</th>\n",
       "    </tr>\n",
       "    <tr>\n",
       "      <th>Item id</th>\n",
       "      <th></th>\n",
       "    </tr>\n",
       "  </thead>\n",
       "  <tbody>\n",
       "    <tr>\n",
       "      <th>1</th>\n",
       "      <td>Price2</td>\n",
       "    </tr>\n",
       "    <tr>\n",
       "      <th>2</th>\n",
       "      <td>Price2</td>\n",
       "    </tr>\n",
       "    <tr>\n",
       "      <th>3</th>\n",
       "      <td>Price1</td>\n",
       "    </tr>\n",
       "    <tr>\n",
       "      <th>4</th>\n",
       "      <td>Base_Price</td>\n",
       "    </tr>\n",
       "    <tr>\n",
       "      <th>5</th>\n",
       "      <td>Price1</td>\n",
       "    </tr>\n",
       "    <tr>\n",
       "      <th>...</th>\n",
       "      <td>...</td>\n",
       "    </tr>\n",
       "    <tr>\n",
       "      <th>296</th>\n",
       "      <td>Price2</td>\n",
       "    </tr>\n",
       "    <tr>\n",
       "      <th>297</th>\n",
       "      <td>Price1</td>\n",
       "    </tr>\n",
       "    <tr>\n",
       "      <th>298</th>\n",
       "      <td>Price4</td>\n",
       "    </tr>\n",
       "    <tr>\n",
       "      <th>299</th>\n",
       "      <td>Price1</td>\n",
       "    </tr>\n",
       "    <tr>\n",
       "      <th>300</th>\n",
       "      <td>Price2</td>\n",
       "    </tr>\n",
       "  </tbody>\n",
       "</table>\n",
       "<p>300 rows × 1 columns</p>\n",
       "</div>"
      ],
      "text/plain": [
       "              Price\n",
       "Item id            \n",
       "1            Price2\n",
       "2            Price2\n",
       "3            Price1\n",
       "4        Base_Price\n",
       "5            Price1\n",
       "...             ...\n",
       "296          Price2\n",
       "297          Price1\n",
       "298          Price4\n",
       "299          Price1\n",
       "300          Price2\n",
       "\n",
       "[300 rows x 1 columns]"
      ]
     },
     "execution_count": 14,
     "metadata": {},
     "output_type": "execute_result"
    }
   ],
   "source": [
    "writeframe.set_index('Item id')"
   ]
  },
  {
   "cell_type": "code",
   "execution_count": 15,
   "metadata": {},
   "outputs": [],
   "source": [
    "writeframe.to_csv('scenario3.csv', index=False)\n",
    "# ../input/output/"
   ]
  },
  {
   "cell_type": "code",
   "execution_count": 24,
   "metadata": {},
   "outputs": [],
   "source": [
    "scenario1price = 0\n",
    "scenario1qty = 0\n",
    "for i in range(len(finalitems)):\n",
    "    scenario1price+=(npdataset[i][finalitems[i]] * npdataset[i][finalitems[i]+1])\n",
    "    scenario1qty+=(npdataset[i][finalitems[i]+1])"
   ]
  },
  {
   "cell_type": "code",
   "execution_count": 25,
   "metadata": {},
   "outputs": [
    {
     "data": {
      "text/plain": [
       "(True, -220764.95999999996)"
      ]
     },
     "execution_count": 25,
     "metadata": {},
     "output_type": "execute_result"
    }
   ],
   "source": [
    "scenario1price>=criterion1_revenuegainask, criterion1_revenuegainask- scenario1price"
   ]
  },
  {
   "cell_type": "code",
   "execution_count": 26,
   "metadata": {},
   "outputs": [
    {
     "data": {
      "text/plain": [
       "(True, -46.39999999999418)"
      ]
     },
     "execution_count": 26,
     "metadata": {},
     "output_type": "execute_result"
    }
   ],
   "source": [
    "scenario1qty>=criterion1_quantitygainask, criterion1_quantitygainask- scenario1qty"
   ]
  },
  {
   "cell_type": "code",
   "execution_count": 27,
   "metadata": {},
   "outputs": [
    {
     "data": {
      "text/plain": [
       "534917"
      ]
     },
     "execution_count": 27,
     "metadata": {},
     "output_type": "execute_result"
    }
   ],
   "source": [
    "total_hit"
   ]
  }
 ],
 "metadata": {
  "kernelspec": {
   "display_name": "Python 3",
   "language": "python",
   "name": "python3"
  },
  "language_info": {
   "codemirror_mode": {
    "name": "ipython",
    "version": 3
   },
   "file_extension": ".py",
   "mimetype": "text/x-python",
   "name": "python",
   "nbconvert_exporter": "python",
   "pygments_lexer": "ipython3",
   "version": "3.6.9"
  }
 },
 "nbformat": 4,
 "nbformat_minor": 4
}
